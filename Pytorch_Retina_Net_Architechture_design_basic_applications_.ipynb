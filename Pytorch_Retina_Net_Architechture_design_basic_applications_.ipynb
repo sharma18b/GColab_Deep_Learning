{
  "nbformat": 4,
  "nbformat_minor": 0,
  "metadata": {
    "colab": {
      "name": "Pytorch Retina Net Architechture design basic applications .ipynb",
      "provenance": [],
      "authorship_tag": "ABX9TyMRS/KN8GNQlFw375kwDOHN",
      "include_colab_link": true
    },
    "kernelspec": {
      "name": "python3",
      "display_name": "Python 3"
    },
    "language_info": {
      "name": "python"
    },
    "accelerator": "GPU"
  },
  "cells": [
    {
      "cell_type": "markdown",
      "metadata": {
        "id": "view-in-github",
        "colab_type": "text"
      },
      "source": [
        "<a href=\"https://colab.research.google.com/github/sharma18b/GColab_Deep_Learning/blob/master/Pytorch_Retina_Net_Architechture_design_basic_applications_.ipynb\" target=\"_parent\"><img src=\"https://colab.research.google.com/assets/colab-badge.svg\" alt=\"Open In Colab\"/></a>"
      ]
    },
    {
      "cell_type": "code",
      "execution_count": null,
      "metadata": {
        "colab": {
          "base_uri": "https://localhost:8080/",
          "height": 324
        },
        "id": "YsJPm-lnJaeM",
        "outputId": "034d523d-9f53-440a-d83e-25a560a8cd5b"
      },
      "outputs": [
        {
          "output_type": "stream",
          "name": "stdout",
          "text": [
            "cuda\n",
            "torch.Size([32, 7, 7, 2048])\n"
          ]
        },
        {
          "output_type": "stream",
          "name": "stderr",
          "text": [
            "/usr/local/lib/python3.7/dist-packages/ipykernel_launcher.py:11: UserWarning: To copy construct from a tensor, it is recommended to use sourceTensor.clone().detach() or sourceTensor.clone().detach().requires_grad_(True), rather than torch.tensor(sourceTensor).\n",
            "  # This is added back by InteractiveShellApp.init_path()\n"
          ]
        },
        {
          "output_type": "error",
          "ename": "RuntimeError",
          "evalue": "ignored",
          "traceback": [
            "\u001b[0;31m---------------------------------------------------------------------------\u001b[0m",
            "\u001b[0;31mRuntimeError\u001b[0m                              Traceback (most recent call last)",
            "\u001b[0;32m<ipython-input-29-ddc6a900d566>\u001b[0m in \u001b[0;36m<module>\u001b[0;34m()\u001b[0m\n\u001b[1;32m     10\u001b[0m \u001b[0mprint\u001b[0m\u001b[0;34m(\u001b[0m\u001b[0ma\u001b[0m\u001b[0;34m.\u001b[0m\u001b[0mshape\u001b[0m\u001b[0;34m)\u001b[0m\u001b[0;34m\u001b[0m\u001b[0;34m\u001b[0m\u001b[0m\n\u001b[1;32m     11\u001b[0m \u001b[0mx\u001b[0m \u001b[0;34m=\u001b[0m \u001b[0mtorch\u001b[0m\u001b[0;34m.\u001b[0m\u001b[0mtensor\u001b[0m\u001b[0;34m(\u001b[0m\u001b[0ma\u001b[0m\u001b[0;34m)\u001b[0m\u001b[0;34m\u001b[0m\u001b[0;34m\u001b[0m\u001b[0m\n\u001b[0;32m---> 12\u001b[0;31m \u001b[0mx\u001b[0m\u001b[0;34m.\u001b[0m\u001b[0mexpand\u001b[0m\u001b[0;34m(\u001b[0m\u001b[0;34m-\u001b[0m\u001b[0;36m1\u001b[0m\u001b[0;34m,\u001b[0m\u001b[0;36m14\u001b[0m\u001b[0;34m,\u001b[0m\u001b[0;34m-\u001b[0m\u001b[0;36m1\u001b[0m\u001b[0;34m,\u001b[0m\u001b[0;34m-\u001b[0m\u001b[0;36m1\u001b[0m\u001b[0;34m)\u001b[0m\u001b[0;34m\u001b[0m\u001b[0;34m\u001b[0m\u001b[0m\n\u001b[0m\u001b[1;32m     13\u001b[0m \u001b[0mprint\u001b[0m\u001b[0;34m(\u001b[0m\u001b[0mx\u001b[0m\u001b[0;34m.\u001b[0m\u001b[0mshape\u001b[0m\u001b[0;34m)\u001b[0m\u001b[0;34m\u001b[0m\u001b[0;34m\u001b[0m\u001b[0m\n\u001b[1;32m     14\u001b[0m \u001b[0;31m#x.expand(-1, 4)\u001b[0m\u001b[0;34m\u001b[0m\u001b[0;34m\u001b[0m\u001b[0;34m\u001b[0m\u001b[0m\n",
            "\u001b[0;31mRuntimeError\u001b[0m: The expanded size of the tensor (14) must match the existing size (7) at non-singleton dimension 1.  Target sizes: [-1, 14, -1, -1].  Tensor sizes: [32, 7, 7, 2048]"
          ]
        }
      ],
      "source": [
        "# Example of target with class probabilities\n",
        "import torch\n",
        "from torch import nn\n",
        "criterion = nn.CrossEntropyLoss();\n",
        "#print(torch.__version__)\n",
        "device = torch.device(\"cuda\" if torch.cuda.is_available() else \"cpu\")\n",
        "print(device)\n",
        "\n",
        "a = torch.rand(32,7,7,2048)\n",
        "print(a.shape)\n",
        "x = torch.tensor(a)\n",
        "x.expand(-1,14,-1,-1)\n",
        "print(x.shape)\n",
        "#x.expand(-1, 4)\n",
        "#print(x)   # -1 means not changing the size of that dimension"
      ]
    },
    {
      "cell_type": "code",
      "source": [
        ""
      ],
      "metadata": {
        "id": "B6IDixe7Li8u"
      },
      "execution_count": null,
      "outputs": []
    },
    {
      "cell_type": "code",
      "source": [
        "# With square kernels and equal stride\n",
        "m = nn.Conv2d(7,1,1, stride=2)\n",
        "# non-square kernels and unequal stride and with padding\n",
        "#m = nn.Conv2d(16, 33, (3, 5), stride=(2, 1), padding=(4, 2))\n",
        "# non-square kernels and unequal stride and with padding and dilation\n",
        "#m = nn.Conv2d(16, 33, (3, 5), stride=(2, 1), padding=(4, 2), dilation=(3, 1))\n",
        "input = torch.randn(32, 7, 7, 2048)\n",
        "print(input.shape)\n",
        "output = m(input)\n",
        "print(output.shape)"
      ],
      "metadata": {
        "colab": {
          "base_uri": "https://localhost:8080/"
        },
        "id": "hjcbGEraMPVb",
        "outputId": "4220ceee-f976-4fa0-ed9c-380b95fb6468"
      },
      "execution_count": null,
      "outputs": [
        {
          "output_type": "stream",
          "name": "stdout",
          "text": [
            "torch.Size([32, 7, 7, 2048])\n",
            "torch.Size([32, 1, 4, 1024])\n"
          ]
        }
      ]
    },
    {
      "cell_type": "code",
      "source": [
        "input = torch.randn(32, 2048, 7, 7)\n",
        "input1 = torch.randn(32, 2048, 7, 7)\n",
        "m1 = nn.Upsample(scale_factor=2)\n",
        "new1 = m1(input)\n",
        "new1 = new1.to(device)\n",
        "print(new1.shape)"
      ],
      "metadata": {
        "colab": {
          "base_uri": "https://localhost:8080/"
        },
        "id": "U6bvlUE-M2Jc",
        "outputId": "865399a0-f309-4244-9343-4d406a2998d1"
      },
      "execution_count": null,
      "outputs": [
        {
          "output_type": "stream",
          "name": "stdout",
          "text": [
            "torch.Size([32, 2048, 14, 14])\n"
          ]
        }
      ]
    },
    {
      "cell_type": "code",
      "source": [
        "\n",
        "# Example of target with class probabilities\n",
        "import torch\n",
        "from torch import nn\n",
        "criterion = nn.CrossEntropyLoss();\n",
        "#print(torch.__version__)\n",
        "device = torch.device(\"cuda\" if torch.cuda.is_available() else \"cpu\")\n",
        "print(device)\n",
        "m1 = nn.Conv2d(2048,2048,(1)).to(device)\n",
        "print(new1.shape)\n",
        "out1 = m1(new1)\n",
        "print(out1.shape)\n",
        "a1 = out1 + new1;\n",
        "print(a1.shape)"
      ],
      "metadata": {
        "colab": {
          "base_uri": "https://localhost:8080/"
        },
        "id": "VkJpxYhaT1hR",
        "outputId": "9a8628d6-3ee9-41a1-e572-d093d3e44ec9"
      },
      "execution_count": null,
      "outputs": [
        {
          "output_type": "stream",
          "name": "stdout",
          "text": [
            "cuda\n",
            "torch.Size([32, 2048, 14, 14])\n",
            "torch.Size([32, 2048, 14, 14])\n",
            "torch.Size([32, 2048, 14, 14])\n"
          ]
        }
      ]
    },
    {
      "cell_type": "code",
      "source": [
        "# Example of target with class probabilities\n",
        "import torch\n",
        "from torch import nn\n",
        "#print(torch.__version__)\n",
        "device = torch.device(\"cuda\" if torch.cuda.is_available() else \"cpu\")\n",
        "print(device)"
      ],
      "metadata": {
        "colab": {
          "base_uri": "https://localhost:8080/"
        },
        "id": "oleiRehjdpGf",
        "outputId": "7b1f6eb9-1a12-4de8-ee6e-4bf81263f311"
      },
      "execution_count": 12,
      "outputs": [
        {
          "output_type": "stream",
          "name": "stdout",
          "text": [
            "cuda\n"
          ]
        }
      ]
    },
    {
      "cell_type": "code",
      "source": [
        "# Finally i have 3 sizes [32,2048,14,14] [32,2048,14,14] [32,1024,7,7]\n",
        "i1 = torch.randn(32,2048,14,14).to(device)\n",
        "i2 = torch.randn(32,2048,14,14).to(device)\n",
        "i3 = torch.randn(32,1024,7,7).to(device)"
      ],
      "metadata": {
        "id": "f-jJJSmRTzav"
      },
      "execution_count": 23,
      "outputs": []
    },
    {
      "cell_type": "code",
      "source": [
        "## finals use this one for retina net type architechture\n",
        "\n",
        "m1 = nn.Conv2d(1024,2048,(1)).to(device)\n",
        "ups = nn.Upsample(scale_factor=2).to(device)\n",
        "i3 = ups(m1(i3))\n",
        "print(i3.shape)"
      ],
      "metadata": {
        "id": "01HkvPrnSgyP",
        "colab": {
          "base_uri": "https://localhost:8080/"
        },
        "outputId": "a2d1372f-bc1d-44f9-fe36-f9e41e5490f6"
      },
      "execution_count": 24,
      "outputs": [
        {
          "output_type": "stream",
          "name": "stdout",
          "text": [
            "torch.Size([32, 2048, 14, 14])\n"
          ]
        }
      ]
    },
    {
      "cell_type": "code",
      "source": [
        "upsample7to14 = nn.Upsample(scale_factor=2).to(device)\n",
        "i3 = upsample7to14(i3)\n",
        "print(i3.shape)"
      ],
      "metadata": {
        "colab": {
          "base_uri": "https://localhost:8080/"
        },
        "id": "eqo9QRfreKlG",
        "outputId": "8741698c-505d-4a7b-ca4c-34d9a757818d"
      },
      "execution_count": 15,
      "outputs": [
        {
          "output_type": "stream",
          "name": "stdout",
          "text": [
            "torch.Size([32, 2048, 14, 14])\n"
          ]
        }
      ]
    }
  ]
}